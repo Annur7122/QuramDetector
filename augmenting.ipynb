{
 "cells": [
  {
   "cell_type": "code",
   "execution_count": 2,
   "metadata": {},
   "outputs": [
    {
     "name": "stdout",
     "output_type": "stream",
     "text": [
      "❌ Failed to open image product_logos/Grizzly/.DS_Store: cannot identify image file 'product_logos/Grizzly/.DS_Store'\n",
      "✅ Augmentation complete.\n"
     ]
    }
   ],
   "source": [
    "import os\n",
    "from PIL import Image\n",
    "from torchvision import transforms\n",
    "\n",
    "# Input and output directories\n",
    "input_dir = \"product_logos\"\n",
    "output_dir = \"augmented_product_logos\"\n",
    "os.makedirs(output_dir, exist_ok=True)\n",
    "\n",
    "# Augmentation pipeline\n",
    "augmentations = transforms.Compose([\n",
    "    transforms.RandomHorizontalFlip(),\n",
    "    transforms.RandomRotation(degrees=15),\n",
    "    transforms.ColorJitter(brightness=0.2, contrast=0.2),\n",
    "    transforms.RandomResizedCrop(size=224, scale=(0.9, 1.1)),\n",
    "])\n",
    "\n",
    "# Number of augmentations per original image\n",
    "target_per_image = 10\n",
    "\n",
    "for brand in os.listdir(input_dir):\n",
    "    # Skip hidden files or non-directories\n",
    "    if brand.startswith('.'):\n",
    "        continue\n",
    "\n",
    "    brand_dir = os.path.join(input_dir, brand)\n",
    "    if not os.path.isdir(brand_dir):\n",
    "        continue\n",
    "\n",
    "    brand_out_dir = os.path.join(output_dir, brand)\n",
    "    os.makedirs(brand_out_dir, exist_ok=True)\n",
    "\n",
    "    for img_name in os.listdir(brand_dir):\n",
    "        img_path = os.path.join(brand_dir, img_name)\n",
    "\n",
    "        try:\n",
    "            image = Image.open(img_path).convert(\"RGB\")\n",
    "        except Exception as e:\n",
    "            print(f\"❌ Failed to open image {img_path}: {e}\")\n",
    "            continue\n",
    "\n",
    "        for i in range(target_per_image):\n",
    "            aug_img = augmentations(image)\n",
    "            save_name = f\"{os.path.splitext(img_name)[0]}_aug{i}.jpg\"\n",
    "            aug_img.save(os.path.join(brand_out_dir, save_name))\n",
    "\n",
    "print(\"✅ Augmentation complete.\")\n"
   ]
  },
  {
   "cell_type": "code",
   "execution_count": null,
   "metadata": {},
   "outputs": [],
   "source": []
  }
 ],
 "metadata": {
  "kernelspec": {
   "display_name": "Python 3",
   "language": "python",
   "name": "python3"
  },
  "language_info": {
   "codemirror_mode": {
    "name": "ipython",
    "version": 3
   },
   "file_extension": ".py",
   "mimetype": "text/x-python",
   "name": "python",
   "nbconvert_exporter": "python",
   "pygments_lexer": "ipython3",
   "version": "3.11.2"
  },
  "orig_nbformat": 4,
  "vscode": {
   "interpreter": {
    "hash": "aee8b7b246df8f9039afb4144a1f6fd8d2ca17a180786b69acc140d282b71a49"
   }
  }
 },
 "nbformat": 4,
 "nbformat_minor": 2
}
